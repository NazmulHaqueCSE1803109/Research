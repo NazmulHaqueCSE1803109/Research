{
 "cells": [
  {
   "cell_type": "markdown",
   "id": "b9c6e061",
   "metadata": {},
   "source": [
    "# Naive Bayes Algorithm"
   ]
  },
  {
   "cell_type": "code",
   "execution_count": 1,
   "id": "5e24491e",
   "metadata": {},
   "outputs": [],
   "source": [
    "# There are three types of Naive Bayes model\n",
    "#1. GussianNB\n",
    "#2. MultinominalNB\n",
    "#3. BernoulliNB"
   ]
  },
  {
   "cell_type": "code",
   "execution_count": 2,
   "id": "e31ad268",
   "metadata": {},
   "outputs": [],
   "source": [
    "# Application of Naive Bayes Algorithm\n",
    "#1. Realtime Prediciton\n",
    "#2. Recomendation System\n",
    "#3. Text Classification/ spam filterring/ sentiment analysis\n",
    "#4. Multiclass prediction"
   ]
  },
  {
   "cell_type": "code",
   "execution_count": null,
   "id": "0212125c",
   "metadata": {},
   "outputs": [],
   "source": []
  }
 ],
 "metadata": {
  "kernelspec": {
   "display_name": "Python 3 (ipykernel)",
   "language": "python",
   "name": "python3"
  },
  "language_info": {
   "codemirror_mode": {
    "name": "ipython",
    "version": 3
   },
   "file_extension": ".py",
   "mimetype": "text/x-python",
   "name": "python",
   "nbconvert_exporter": "python",
   "pygments_lexer": "ipython3",
   "version": "3.9.13"
  }
 },
 "nbformat": 4,
 "nbformat_minor": 5
}
